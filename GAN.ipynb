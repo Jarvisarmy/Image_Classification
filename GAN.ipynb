{
 "cells": [
  {
   "cell_type": "code",
   "execution_count": 5,
   "id": "51d710e0",
   "metadata": {},
   "outputs": [
    {
     "name": "stderr",
     "output_type": "stream",
     "text": [
      "C:\\Users\\15197\\AppData\\Roaming\\Python\\Python39\\site-packages\\keras\\optimizer_v2\\adam.py:105: UserWarning: The `lr` argument is deprecated, use `learning_rate` instead.\n",
      "  super(Adam, self).__init__(name, **kwargs)\n"
     ]
    }
   ],
   "source": [
    "import numpy as np\n",
    "import pandas as pd\n",
    "import matplotlib.pyplot as plt\n",
    "import os\n",
    "import tensorflow as tf\n",
    "from os import listdir\n",
    "from os.path import isfile, join\n",
    "import random\n",
    "import shutil\n",
    "from matplotlib.image import imread\n",
    "from keras.callbacks import ModelCheckpoint, EarlyStopping, CSVLogger\n",
    "\n",
    "from tensorflow.keras.utils import Sequence\n",
    "import time\n",
    "import seaborn as sns\n",
    "import DCGAN1 as gan"
   ]
  },
  {
   "cell_type": "markdown",
   "id": "3a31f6ea",
   "metadata": {},
   "source": [
    "Generative vs Discriminative <br />\n",
    "https://www.youtube.com/watch?v=yz6dNf7X7SA\n",
    "* generative model: p(x,y) or p(x|y)p(y)\n",
    "* Discriminative model: p(y|x)\n",
    "\n",
    "* important discoveries\n",
    " * batch normalization is a must in both networks\n",
    " * fully hidden connected layers are not a good idea\n",
    " * avoid pooling, simply stride your convolutions\n",
    " * ReLU activations are your friend\n",
    " * Vanilla GANs could work on simple datasets, but DCGANs are far better"
   ]
  },
  {
   "cell_type": "code",
   "execution_count": null,
   "id": "a2de2285",
   "metadata": {},
   "outputs": [],
   "source": []
  }
 ],
 "metadata": {
  "kernelspec": {
   "display_name": "Python 3 (ipykernel)",
   "language": "python",
   "name": "python3"
  },
  "language_info": {
   "codemirror_mode": {
    "name": "ipython",
    "version": 3
   },
   "file_extension": ".py",
   "mimetype": "text/x-python",
   "name": "python",
   "nbconvert_exporter": "python",
   "pygments_lexer": "ipython3",
   "version": "3.9.7"
  }
 },
 "nbformat": 4,
 "nbformat_minor": 5
}
