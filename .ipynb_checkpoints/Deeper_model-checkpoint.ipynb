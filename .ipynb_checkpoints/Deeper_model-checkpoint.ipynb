{
 "cells": [
  {
   "cell_type": "code",
   "execution_count": 2,
   "id": "4366c4e6",
   "metadata": {},
   "outputs": [],
   "source": [
    "import numpy as np\n",
    "import pandas as pd\n",
    "import matplotlib.pyplot as plt\n",
    "import os\n",
    "import tensorflow as tf\n",
    "from os import listdir\n",
    "from os.path import isfile, join\n",
    "import random\n",
    "import shutil\n",
    "from matplotlib.image import imread\n",
    "\n",
    "from keras.callbacks import ModelCheckpoint, EarlyStopping, CSVLogger\n",
    "from keras.preprocessing.image import ImageDataGenerator\n",
    "from tensorflow.keras.utils import Sequence\n",
    "import time\n",
    "import seaborn as sns\n",
    "import pathlib\n",
    "\n",
    "\n",
    "# import DCGAN as gan\n",
    "\n",
    "import json\n",
    "\n",
    "from keras.models import Sequential\n",
    "from tensorflow.keras import layers\n",
    "from keras.layers import Conv2D, MaxPool2D, Dropout, Flatten, Dense, Activation, BatchNormalization, Lambda, MaxPooling2D\n",
    "from keras.preprocessing.image import ImageDataGenerator\n",
    "from tensorflow.keras.optimizers import Adam\n",
    "\n",
    "from pathlib import Path\n",
    "import PIL\n",
    "from keras.utils.vis_utils import plot_model\n",
    "from keras_visualizer import visualizer "
   ]
  },
  {
   "cell_type": "code",
   "execution_count": 3,
   "id": "b2154f43",
   "metadata": {},
   "outputs": [],
   "source": [
    "physical_devices = tf.config.list_physical_devices('GPU')\n",
    "try:\n",
    "    tf.config.experimental.set_memory_growth(physical_devices[0], True)\n",
    "except:\n",
    "  # Invalid device or cannot modify virtual devices once initialized.\n",
    "    pass"
   ]
  },
  {
   "cell_type": "code",
   "execution_count": 4,
   "id": "12f7f0a3",
   "metadata": {},
   "outputs": [],
   "source": [
    "AUTOTUNE = tf.data.experimental.AUTOTUNE\n",
    "BATCH_SIZE = 32"
   ]
  },
  {
   "cell_type": "code",
   "execution_count": 5,
   "id": "427a187f",
   "metadata": {},
   "outputs": [],
   "source": [
    "IMG_DIR = './PokemonData'"
   ]
  },
  {
   "cell_type": "code",
   "execution_count": 6,
   "id": "575bc877",
   "metadata": {},
   "outputs": [],
   "source": [
    "def create_train_val_test_folder():\n",
    "    os.system(\"mkdir train\")\n",
    "    os.system(\"mkdir test\")\n",
    "    os.system(\"mkdir val\")\n",
    "    \n",
    "def clean_images():\n",
    "    os.system(\"rm -r train/* test/* val/*\")\n",
    "    os.system(\"find train/ -name '*.*' -type f -delete\")\n",
    "    os.system(\"find val/ -name '*.*' -type f -delete\")\n",
    "    os.system(\"find test/ -name '*.*' -type f -delete\")\n",
    "\n",
    "def data_extractor(class_pct, train_pct, val_pct, test_pct):\n",
    "    dirs = os.listdir(IMG_DIR)\n",
    "    sub_classes = random.sample(dirs,int(len(dirs)*class_pct))\n",
    "\n",
    "    for cla in sub_classes:\n",
    "        os.system('mkdir \"train/'+cla+'\"')\n",
    "        os.system('mkdir \"test/'+cla+'\"')\n",
    "        os.system('mkdir \"val/'+cla+'\"')\n",
    "        os.system(\"find train/\"+cla+\" -name '*.*' -type f -delete\")\n",
    "        os.system(\"find val/\"+cla+\" -name '*.*' -type f -delete\")\n",
    "        os.system(\"find test/\"+cla+\" -name '*.*' -type f -delete\")\n",
    "\n",
    "        temp_files = os.listdir(os.path.join(IMG_DIR,cla))\n",
    "\n",
    "        files = [f for f in temp_files if isfile(os.path.join(IMG_DIR, cla,f))]\n",
    "        \n",
    "        train_files = random.sample(files,int(len(files)*(train_pct+val_pct+test_pct)))\n",
    "        val_files = random.sample(train_files,int(len(files)*(val_pct+test_pct)))\n",
    "        test_files = random.sample(val_files,int(len(files)*test_pct))\n",
    "        train_files = [x for x in train_files if x not in val_files]\n",
    "        val_files = [x for x in val_files if x not in test_files]\n",
    "        \n",
    "        for file in train_files:\n",
    "            shutil.copy(os.path.join(IMG_DIR,cla,file), os.path.join('train',cla,file))\n",
    "        for file in val_files:\n",
    "            shutil.copy(os.path.join(IMG_DIR,cla,file), os.path.join('val',cla,file))\n",
    "        for file in test_files:\n",
    "            shutil.copy(os.path.join(IMG_DIR,cla,file), os.path.join('test',cla,file))"
   ]
  },
  {
   "cell_type": "code",
   "execution_count": 7,
   "id": "8a81bfc3",
   "metadata": {},
   "outputs": [],
   "source": [
    "SampleSize= 1\n",
    "TrainSize = 0.7\n",
    "TestSize = 0.2\n",
    "ValSize= 0.1"
   ]
  },
  {
   "cell_type": "code",
   "execution_count": 8,
   "id": "8f35940f",
   "metadata": {},
   "outputs": [],
   "source": [
    "#data_extractor(SampleSize, TrainSize, ValSize, TestSize)"
   ]
  },
  {
   "cell_type": "code",
   "execution_count": 9,
   "id": "e304b0b4",
   "metadata": {},
   "outputs": [],
   "source": [
    "def preprocess_image(image):\n",
    "    image = tf.image.decode_jpeg(image, channels=3)\n",
    "    image = tf.image.resize(image, [192, 192])\n",
    "    image /= 255.0  # normalize to [0,1] range\n",
    "\n",
    "    return image\n",
    "\n",
    "def load_and_preprocess_image(path):\n",
    "    image = tf.io.read_file(path)\n",
    "    return preprocess_image(image)"
   ]
  },
  {
   "cell_type": "code",
   "execution_count": 10,
   "id": "0ba71a7c",
   "metadata": {},
   "outputs": [],
   "source": [
    "data_root = Path('./train')\n",
    "Test_root = Path('./test')\n",
    "val_root = Path('./val')"
   ]
  },
  {
   "cell_type": "code",
   "execution_count": 11,
   "id": "a884c459",
   "metadata": {},
   "outputs": [],
   "source": [
    "import random\n",
    "\n",
    "def load_and_preprocess_from_path_label(path, label):\n",
    "    return load_and_preprocess_image(path), label\n",
    "\n",
    "def create_dataset (root):\n",
    "    all_image_paths = list(root.glob('*/*.jpg'))\n",
    "    all_image_paths = [str(path) for path in all_image_paths]\n",
    "    random.shuffle(all_image_paths)\n",
    "\n",
    "    image_count = len(all_image_paths)\n",
    "\n",
    "    print(\"The image count is %d\" % image_count)\n",
    "    label_names = sorted(item.name for item in root.glob('*/') if item.is_dir())\n",
    "\n",
    "    label_to_index = dict((name, index) for index, name in enumerate(label_names))\n",
    "\n",
    "    all_image_labels = [label_to_index[pathlib.Path(path).parent.name]\n",
    "                        for path in all_image_paths]\n",
    "\n",
    "    print(\"First 10 labels indices: \", all_image_labels[:10])\n",
    "\n",
    "    steps_per_epoch=tf.math.ceil(len(all_image_paths)/BATCH_SIZE).numpy()\n",
    "    print(steps_per_epoch)\n",
    "\n",
    "    paths_ds = tf.data.Dataset.from_tensor_slices(all_image_paths)\n",
    "    image_ds = paths_ds.map(load_and_preprocess_image)\n",
    "\n",
    "    label_ds = tf.data.Dataset.from_tensor_slices(tf.cast(all_image_labels, tf.int64))\n",
    "    image_label_ds = tf.data.Dataset.zip((image_ds, label_ds))\n",
    "\n",
    "    ds = tf.data.Dataset.from_tensor_slices((all_image_paths, all_image_labels))\n",
    "    image_label_ds = ds.map(load_and_preprocess_from_path_label)\n",
    "    \n",
    "\n",
    "    ds = image_label_ds.shuffle(buffer_size=image_count)\n",
    "    ds = ds.batch(BATCH_SIZE).prefetch(buffer_size=AUTOTUNE)\n",
    "\n",
    "    return ds"
   ]
  },
  {
   "cell_type": "code",
   "execution_count": 12,
   "id": "b926916a",
   "metadata": {},
   "outputs": [],
   "source": [
    "EPOCH = 50\n",
    "image_shape = (192,192,3)\n",
    "ClassNum = 150"
   ]
  },
  {
   "cell_type": "code",
   "execution_count": 13,
   "id": "ad6e0353",
   "metadata": {},
   "outputs": [
    {
     "name": "stdout",
     "output_type": "stream",
     "text": [
      "The image count is 4729\n",
      "First 10 labels indices:  [134, 143, 105, 110, 108, 4, 88, 42, 42, 149]\n",
      "148.0\n",
      "The image count is 648\n",
      "First 10 labels indices:  [123, 148, 104, 86, 81, 25, 36, 47, 9, 87]\n",
      "21.0\n"
     ]
    }
   ],
   "source": [
    "train_ds = create_dataset (data_root)\n",
    "val_ds = create_dataset (val_root)"
   ]
  },
  {
   "cell_type": "code",
   "execution_count": 22,
   "id": "a7b14c35",
   "metadata": {},
   "outputs": [],
   "source": [
    "earlystopping = EarlyStopping(monitor=\"val_loss\",patience=10,verbose=1,restore_best_weights=True)\n",
    "callback_list = [earlystopping]"
   ]
  },
  {
   "cell_type": "code",
   "execution_count": 23,
   "id": "1b38f567",
   "metadata": {},
   "outputs": [],
   "source": [
    "def Mobile_net(initial_rate, decay_step,decay_rate):\n",
    "    final_data_aug = tf.keras.Sequential([\n",
    "        layers.RandomZoom(0.3,0.3,fill_mode=\"nearest\"),\n",
    "        layers.RandomRotation(0.3)\n",
    "    ])\n",
    "    mobile_net = tf.keras.applications.MobileNetV2(input_shape=(192, 192, 3), include_top=False)\n",
    "    model = tf.keras.Sequential([\n",
    "        final_data_aug,\n",
    "        mobile_net,\n",
    "        tf.keras.layers.GlobalAveragePooling2D(),\n",
    "        tf.keras.layers.Dense(150, activation = 'softmax')])\n",
    "    lr_schedule = tf.keras.optimizers.schedules.ExponentialDecay(\n",
    "        initial_rate,\n",
    "        decay_steps=decay_step,\n",
    "        decay_rate=decay_rate,\n",
    "        staircase=True)\n",
    "    model.compile(loss='sparse_categorical_crossentropy', optimizer=Adam(learning_rate=lr_schedule), metrics=['accuracy'])\n",
    "\n",
    "    return model"
   ]
  },
  {
   "cell_type": "code",
   "execution_count": 68,
   "id": "e091661b",
   "metadata": {},
   "outputs": [],
   "source": [
    "model = Mobile_net(0.0001,100,0.95)"
   ]
  },
  {
   "cell_type": "code",
   "execution_count": 69,
   "id": "cdafca42",
   "metadata": {},
   "outputs": [
    {
     "name": "stdout",
     "output_type": "stream",
     "text": [
      "Epoch 1/100\n",
      "148/148 [==============================] - 32s 171ms/step - loss: 4.4828 - accuracy: 0.1104 - val_loss: 4.0327 - val_accuracy: 0.1543\n",
      "Epoch 2/100\n",
      "148/148 [==============================] - 27s 166ms/step - loss: 2.4012 - accuracy: 0.5456 - val_loss: 3.0115 - val_accuracy: 0.3256\n",
      "Epoch 3/100\n",
      "148/148 [==============================] - 27s 167ms/step - loss: 1.2537 - accuracy: 0.7672 - val_loss: 2.3060 - val_accuracy: 0.4815\n",
      "Epoch 4/100\n",
      "148/148 [==============================] - 28s 166ms/step - loss: 0.8146 - accuracy: 0.8454 - val_loss: 1.8052 - val_accuracy: 0.6065\n",
      "Epoch 5/100\n",
      "148/148 [==============================] - 27s 166ms/step - loss: 0.5796 - accuracy: 0.8896 - val_loss: 1.4806 - val_accuracy: 0.6806\n",
      "Epoch 6/100\n",
      "148/148 [==============================] - 28s 166ms/step - loss: 0.4522 - accuracy: 0.9156 - val_loss: 1.2314 - val_accuracy: 0.7392\n",
      "Epoch 7/100\n",
      "148/148 [==============================] - 27s 166ms/step - loss: 0.3630 - accuracy: 0.9319 - val_loss: 1.0702 - val_accuracy: 0.7531\n",
      "Epoch 8/100\n",
      "148/148 [==============================] - 27s 166ms/step - loss: 0.3007 - accuracy: 0.9480 - val_loss: 0.9112 - val_accuracy: 0.7886\n",
      "Epoch 9/100\n",
      "148/148 [==============================] - 27s 166ms/step - loss: 0.2596 - accuracy: 0.9547 - val_loss: 0.7869 - val_accuracy: 0.8164\n",
      "Epoch 10/100\n",
      "148/148 [==============================] - 28s 167ms/step - loss: 0.2352 - accuracy: 0.9586 - val_loss: 0.6907 - val_accuracy: 0.8410\n",
      "Epoch 11/100\n",
      "148/148 [==============================] - 27s 166ms/step - loss: 0.1982 - accuracy: 0.9664 - val_loss: 0.6184 - val_accuracy: 0.8580\n",
      "Epoch 12/100\n",
      "148/148 [==============================] - 28s 166ms/step - loss: 0.1735 - accuracy: 0.9738 - val_loss: 0.5853 - val_accuracy: 0.8657\n",
      "Epoch 13/100\n",
      "148/148 [==============================] - 27s 166ms/step - loss: 0.1504 - accuracy: 0.9801 - val_loss: 0.5560 - val_accuracy: 0.8642\n",
      "Epoch 14/100\n",
      "148/148 [==============================] - 28s 167ms/step - loss: 0.1298 - accuracy: 0.9822 - val_loss: 0.5161 - val_accuracy: 0.8827\n",
      "Epoch 15/100\n",
      "148/148 [==============================] - 27s 165ms/step - loss: 0.1256 - accuracy: 0.9816 - val_loss: 0.4891 - val_accuracy: 0.8889\n",
      "Epoch 16/100\n",
      "148/148 [==============================] - 27s 166ms/step - loss: 0.1223 - accuracy: 0.9805 - val_loss: 0.4657 - val_accuracy: 0.8966\n",
      "Epoch 17/100\n",
      "148/148 [==============================] - 27s 166ms/step - loss: 0.1019 - accuracy: 0.9863 - val_loss: 0.4517 - val_accuracy: 0.8997\n",
      "Epoch 18/100\n",
      "148/148 [==============================] - 28s 167ms/step - loss: 0.0945 - accuracy: 0.9884 - val_loss: 0.4365 - val_accuracy: 0.9059\n",
      "Epoch 19/100\n",
      "148/148 [==============================] - 28s 167ms/step - loss: 0.0973 - accuracy: 0.9869 - val_loss: 0.4217 - val_accuracy: 0.9059\n",
      "Epoch 20/100\n",
      "148/148 [==============================] - 28s 167ms/step - loss: 0.0862 - accuracy: 0.9875 - val_loss: 0.4156 - val_accuracy: 0.9012\n",
      "Epoch 21/100\n",
      "148/148 [==============================] - 27s 166ms/step - loss: 0.0828 - accuracy: 0.9903 - val_loss: 0.4143 - val_accuracy: 0.9043\n",
      "Epoch 22/100\n",
      "148/148 [==============================] - 28s 166ms/step - loss: 0.0817 - accuracy: 0.9879 - val_loss: 0.4095 - val_accuracy: 0.9043\n",
      "Epoch 23/100\n",
      "148/148 [==============================] - 27s 166ms/step - loss: 0.0792 - accuracy: 0.9901 - val_loss: 0.4028 - val_accuracy: 0.9074\n",
      "Epoch 24/100\n",
      "148/148 [==============================] - 28s 166ms/step - loss: 0.0725 - accuracy: 0.9920 - val_loss: 0.4008 - val_accuracy: 0.9090\n",
      "Epoch 25/100\n",
      "148/148 [==============================] - 27s 166ms/step - loss: 0.0758 - accuracy: 0.9905 - val_loss: 0.3999 - val_accuracy: 0.9120\n",
      "Epoch 26/100\n",
      "148/148 [==============================] - 28s 167ms/step - loss: 0.0733 - accuracy: 0.9896 - val_loss: 0.3941 - val_accuracy: 0.9105\n",
      "Epoch 27/100\n",
      "148/148 [==============================] - 28s 167ms/step - loss: 0.0675 - accuracy: 0.9903 - val_loss: 0.3872 - val_accuracy: 0.9105\n",
      "Epoch 28/100\n",
      "148/148 [==============================] - 28s 167ms/step - loss: 0.0653 - accuracy: 0.9907 - val_loss: 0.3844 - val_accuracy: 0.9090\n",
      "Epoch 29/100\n",
      "148/148 [==============================] - 27s 166ms/step - loss: 0.0615 - accuracy: 0.9926 - val_loss: 0.3806 - val_accuracy: 0.9151\n",
      "Epoch 30/100\n",
      "148/148 [==============================] - 28s 166ms/step - loss: 0.0573 - accuracy: 0.9924 - val_loss: 0.3772 - val_accuracy: 0.9182\n",
      "Epoch 31/100\n",
      "148/148 [==============================] - 27s 167ms/step - loss: 0.0606 - accuracy: 0.9926 - val_loss: 0.3735 - val_accuracy: 0.9198\n",
      "Epoch 32/100\n",
      "148/148 [==============================] - 28s 166ms/step - loss: 0.0539 - accuracy: 0.9934 - val_loss: 0.3748 - val_accuracy: 0.9151\n",
      "Epoch 33/100\n",
      "148/148 [==============================] - 27s 166ms/step - loss: 0.0572 - accuracy: 0.9937 - val_loss: 0.3722 - val_accuracy: 0.9182\n",
      "Epoch 34/100\n",
      "148/148 [==============================] - 28s 167ms/step - loss: 0.0533 - accuracy: 0.9937 - val_loss: 0.3741 - val_accuracy: 0.9151\n",
      "Epoch 35/100\n",
      "148/148 [==============================] - 27s 166ms/step - loss: 0.0518 - accuracy: 0.9953 - val_loss: 0.3735 - val_accuracy: 0.9120\n",
      "Epoch 36/100\n",
      "148/148 [==============================] - 28s 166ms/step - loss: 0.0521 - accuracy: 0.9934 - val_loss: 0.3736 - val_accuracy: 0.9105\n",
      "Epoch 37/100\n",
      "148/148 [==============================] - 28s 167ms/step - loss: 0.0523 - accuracy: 0.9932 - val_loss: 0.3690 - val_accuracy: 0.9167\n",
      "Epoch 38/100\n",
      "148/148 [==============================] - 28s 167ms/step - loss: 0.0520 - accuracy: 0.9943 - val_loss: 0.3675 - val_accuracy: 0.9151\n",
      "Epoch 39/100\n",
      "148/148 [==============================] - 28s 168ms/step - loss: 0.0510 - accuracy: 0.9941 - val_loss: 0.3674 - val_accuracy: 0.9167\n",
      "Epoch 40/100\n",
      "148/148 [==============================] - 27s 166ms/step - loss: 0.0482 - accuracy: 0.9934 - val_loss: 0.3686 - val_accuracy: 0.9151\n",
      "Epoch 41/100\n",
      "148/148 [==============================] - 27s 166ms/step - loss: 0.0471 - accuracy: 0.9941 - val_loss: 0.3684 - val_accuracy: 0.9167\n",
      "Epoch 42/100\n",
      "148/148 [==============================] - 28s 167ms/step - loss: 0.0442 - accuracy: 0.9960 - val_loss: 0.3653 - val_accuracy: 0.9167\n",
      "Epoch 43/100\n",
      "148/148 [==============================] - 28s 167ms/step - loss: 0.0449 - accuracy: 0.9951 - val_loss: 0.3649 - val_accuracy: 0.9167\n",
      "Epoch 44/100\n",
      "148/148 [==============================] - 28s 168ms/step - loss: 0.0435 - accuracy: 0.9943 - val_loss: 0.3642 - val_accuracy: 0.9167\n",
      "Epoch 45/100\n",
      "148/148 [==============================] - 28s 167ms/step - loss: 0.0450 - accuracy: 0.9943 - val_loss: 0.3618 - val_accuracy: 0.9151\n",
      "Epoch 46/100\n",
      "148/148 [==============================] - 28s 165ms/step - loss: 0.0446 - accuracy: 0.9945 - val_loss: 0.3609 - val_accuracy: 0.9167\n",
      "Epoch 47/100\n",
      "148/148 [==============================] - 28s 167ms/step - loss: 0.0412 - accuracy: 0.9953 - val_loss: 0.3611 - val_accuracy: 0.9151\n",
      "Epoch 48/100\n",
      "148/148 [==============================] - 28s 166ms/step - loss: 0.0441 - accuracy: 0.9951 - val_loss: 0.3606 - val_accuracy: 0.9167\n",
      "Epoch 49/100\n",
      "148/148 [==============================] - 28s 166ms/step - loss: 0.0424 - accuracy: 0.9947 - val_loss: 0.3619 - val_accuracy: 0.9151\n",
      "Epoch 50/100\n",
      "148/148 [==============================] - 28s 168ms/step - loss: 0.0399 - accuracy: 0.9953 - val_loss: 0.3611 - val_accuracy: 0.9167\n",
      "Epoch 51/100\n",
      "148/148 [==============================] - 28s 168ms/step - loss: 0.0388 - accuracy: 0.9956 - val_loss: 0.3610 - val_accuracy: 0.9136\n",
      "Epoch 52/100\n",
      "148/148 [==============================] - 28s 167ms/step - loss: 0.0400 - accuracy: 0.9964 - val_loss: 0.3612 - val_accuracy: 0.9120\n",
      "Epoch 53/100\n",
      "148/148 [==============================] - 27s 166ms/step - loss: 0.0447 - accuracy: 0.9947 - val_loss: 0.3606 - val_accuracy: 0.9120\n",
      "Epoch 54/100\n",
      "148/148 [==============================] - 28s 167ms/step - loss: 0.0413 - accuracy: 0.9947 - val_loss: 0.3594 - val_accuracy: 0.9136\n",
      "Epoch 55/100\n",
      "148/148 [==============================] - 28s 167ms/step - loss: 0.0432 - accuracy: 0.9947 - val_loss: 0.3589 - val_accuracy: 0.9136\n",
      "Epoch 56/100\n",
      "148/148 [==============================] - 28s 166ms/step - loss: 0.0383 - accuracy: 0.9968 - val_loss: 0.3589 - val_accuracy: 0.9151\n"
     ]
    },
    {
     "name": "stdout",
     "output_type": "stream",
     "text": [
      "Epoch 57/100\n",
      "148/148 [==============================] - 28s 166ms/step - loss: 0.0413 - accuracy: 0.9962 - val_loss: 0.3580 - val_accuracy: 0.9151\n",
      "Epoch 58/100\n",
      "148/148 [==============================] - 28s 168ms/step - loss: 0.0412 - accuracy: 0.9947 - val_loss: 0.3575 - val_accuracy: 0.9151\n",
      "Epoch 59/100\n",
      "148/148 [==============================] - 28s 167ms/step - loss: 0.0414 - accuracy: 0.9941 - val_loss: 0.3570 - val_accuracy: 0.9151\n",
      "Epoch 60/100\n",
      "148/148 [==============================] - 28s 168ms/step - loss: 0.0413 - accuracy: 0.9939 - val_loss: 0.3569 - val_accuracy: 0.9151\n",
      "Epoch 61/100\n",
      "148/148 [==============================] - 28s 167ms/step - loss: 0.0367 - accuracy: 0.9962 - val_loss: 0.3567 - val_accuracy: 0.9151\n",
      "Epoch 62/100\n",
      "148/148 [==============================] - 28s 167ms/step - loss: 0.0426 - accuracy: 0.9932 - val_loss: 0.3567 - val_accuracy: 0.9136\n",
      "Epoch 63/100\n",
      "148/148 [==============================] - 28s 168ms/step - loss: 0.0401 - accuracy: 0.9947 - val_loss: 0.3564 - val_accuracy: 0.9136\n",
      "Epoch 64/100\n",
      "148/148 [==============================] - 28s 166ms/step - loss: 0.0374 - accuracy: 0.9956 - val_loss: 0.3562 - val_accuracy: 0.9136\n",
      "Epoch 65/100\n",
      "148/148 [==============================] - 28s 167ms/step - loss: 0.0408 - accuracy: 0.9947 - val_loss: 0.3558 - val_accuracy: 0.9151\n",
      "Epoch 66/100\n",
      "148/148 [==============================] - 28s 165ms/step - loss: 0.0370 - accuracy: 0.9964 - val_loss: 0.3551 - val_accuracy: 0.9151\n",
      "Epoch 67/100\n",
      "148/148 [==============================] - 28s 166ms/step - loss: 0.0386 - accuracy: 0.9951 - val_loss: 0.3552 - val_accuracy: 0.9151\n",
      "Epoch 68/100\n",
      "148/148 [==============================] - 28s 165ms/step - loss: 0.0410 - accuracy: 0.9951 - val_loss: 0.3550 - val_accuracy: 0.9136\n",
      "Epoch 69/100\n",
      "148/148 [==============================] - 28s 166ms/step - loss: 0.0401 - accuracy: 0.9958 - val_loss: 0.3549 - val_accuracy: 0.9136\n",
      "Epoch 70/100\n",
      "148/148 [==============================] - 28s 166ms/step - loss: 0.0400 - accuracy: 0.9951 - val_loss: 0.3550 - val_accuracy: 0.9136\n",
      "Epoch 71/100\n",
      "148/148 [==============================] - 28s 167ms/step - loss: 0.0427 - accuracy: 0.9941 - val_loss: 0.3548 - val_accuracy: 0.9136\n",
      "Epoch 72/100\n",
      "148/148 [==============================] - 28s 168ms/step - loss: 0.0392 - accuracy: 0.9949 - val_loss: 0.3547 - val_accuracy: 0.9136\n",
      "Epoch 73/100\n",
      "148/148 [==============================] - 28s 167ms/step - loss: 0.0363 - accuracy: 0.9964 - val_loss: 0.3545 - val_accuracy: 0.9136\n",
      "Epoch 74/100\n",
      "148/148 [==============================] - 28s 167ms/step - loss: 0.0414 - accuracy: 0.9951 - val_loss: 0.3548 - val_accuracy: 0.9136\n",
      "Epoch 75/100\n",
      "148/148 [==============================] - 28s 167ms/step - loss: 0.0343 - accuracy: 0.9968 - val_loss: 0.3547 - val_accuracy: 0.9136\n",
      "Epoch 76/100\n",
      "148/148 [==============================] - 28s 166ms/step - loss: 0.0350 - accuracy: 0.9962 - val_loss: 0.3546 - val_accuracy: 0.9136\n",
      "Epoch 77/100\n",
      "148/148 [==============================] - 27s 166ms/step - loss: 0.0384 - accuracy: 0.9962 - val_loss: 0.3547 - val_accuracy: 0.9136\n",
      "Epoch 78/100\n",
      "148/148 [==============================] - 28s 165ms/step - loss: 0.0372 - accuracy: 0.9953 - val_loss: 0.3545 - val_accuracy: 0.9136\n",
      "Epoch 79/100\n",
      "148/148 [==============================] - 28s 166ms/step - loss: 0.0406 - accuracy: 0.9962 - val_loss: 0.3544 - val_accuracy: 0.9136\n",
      "Epoch 80/100\n",
      "148/148 [==============================] - 28s 167ms/step - loss: 0.0378 - accuracy: 0.9958 - val_loss: 0.3542 - val_accuracy: 0.9136\n",
      "Epoch 81/100\n",
      "148/148 [==============================] - 28s 167ms/step - loss: 0.0399 - accuracy: 0.9951 - val_loss: 0.3542 - val_accuracy: 0.9136\n",
      "Epoch 82/100\n",
      "148/148 [==============================] - 28s 167ms/step - loss: 0.0392 - accuracy: 0.9966 - val_loss: 0.3542 - val_accuracy: 0.9136\n",
      "Epoch 83/100\n",
      "148/148 [==============================] - 28s 165ms/step - loss: 0.0355 - accuracy: 0.9970 - val_loss: 0.3542 - val_accuracy: 0.9136\n",
      "Epoch 84/100\n",
      "148/148 [==============================] - 28s 167ms/step - loss: 0.0379 - accuracy: 0.9956 - val_loss: 0.3543 - val_accuracy: 0.9136\n",
      "Epoch 85/100\n",
      "148/148 [==============================] - 28s 166ms/step - loss: 0.0402 - accuracy: 0.9951 - val_loss: 0.3543 - val_accuracy: 0.9136\n",
      "Epoch 86/100\n",
      "148/148 [==============================] - 28s 166ms/step - loss: 0.0382 - accuracy: 0.9953 - val_loss: 0.3543 - val_accuracy: 0.9136\n",
      "Epoch 87/100\n",
      "148/148 [==============================] - 28s 166ms/step - loss: 0.0402 - accuracy: 0.9943 - val_loss: 0.3544 - val_accuracy: 0.9136\n",
      "Epoch 88/100\n",
      "148/148 [==============================] - 28s 167ms/step - loss: 0.0423 - accuracy: 0.9945 - val_loss: 0.3543 - val_accuracy: 0.9136\n",
      "Epoch 89/100\n",
      "148/148 [==============================] - 28s 167ms/step - loss: 0.0369 - accuracy: 0.9956 - val_loss: 0.3542 - val_accuracy: 0.9151\n",
      "Epoch 90/100\n",
      "148/148 [==============================] - 28s 167ms/step - loss: 0.0388 - accuracy: 0.9951 - val_loss: 0.3541 - val_accuracy: 0.9151\n",
      "Epoch 91/100\n",
      "148/148 [==============================] - 28s 166ms/step - loss: 0.0357 - accuracy: 0.9960 - val_loss: 0.3541 - val_accuracy: 0.9136\n",
      "Epoch 92/100\n",
      "148/148 [==============================] - 28s 167ms/step - loss: 0.0408 - accuracy: 0.9956 - val_loss: 0.3542 - val_accuracy: 0.9136\n",
      "Epoch 93/100\n",
      "148/148 [==============================] - 28s 167ms/step - loss: 0.0393 - accuracy: 0.9947 - val_loss: 0.3541 - val_accuracy: 0.9136\n",
      "Epoch 94/100\n",
      "148/148 [==============================] - 28s 168ms/step - loss: 0.0399 - accuracy: 0.9958 - val_loss: 0.3540 - val_accuracy: 0.9136\n",
      "Epoch 95/100\n",
      "148/148 [==============================] - 28s 167ms/step - loss: 0.0394 - accuracy: 0.9958 - val_loss: 0.3541 - val_accuracy: 0.9136\n",
      "Epoch 96/100\n",
      "148/148 [==============================] - 28s 166ms/step - loss: 0.0384 - accuracy: 0.9962 - val_loss: 0.3541 - val_accuracy: 0.9136\n",
      "Epoch 97/100\n",
      "148/148 [==============================] - 28s 166ms/step - loss: 0.0381 - accuracy: 0.9956 - val_loss: 0.3540 - val_accuracy: 0.9136\n",
      "Epoch 98/100\n",
      "148/148 [==============================] - 28s 168ms/step - loss: 0.0370 - accuracy: 0.9956 - val_loss: 0.3539 - val_accuracy: 0.9136\n",
      "Epoch 99/100\n",
      "148/148 [==============================] - 28s 165ms/step - loss: 0.0361 - accuracy: 0.9951 - val_loss: 0.3540 - val_accuracy: 0.9136\n",
      "Epoch 100/100\n",
      "148/148 [==============================] - 28s 166ms/step - loss: 0.0393 - accuracy: 0.9941 - val_loss: 0.3541 - val_accuracy: 0.9136\n"
     ]
    }
   ],
   "source": [
    "history = model.fit(train_ds, epochs=100, validation_data = val_ds,callbacks=callback_list)"
   ]
  },
  {
   "cell_type": "code",
   "execution_count": 70,
   "id": "1163e3ea",
   "metadata": {},
   "outputs": [
    {
     "data": {
      "text/plain": [
       "<AxesSubplot:>"
      ]
     },
     "execution_count": 70,
     "metadata": {},
     "output_type": "execute_result"
    },
    {
     "data": {
      "image/png": "[encoded data removed]",
      "text/plain": [
       "<Figure size 432x288 with 1 Axes>"
      ]
     },
     "metadata": {
      "needs_background": "light"
     },
     "output_type": "display_data"
    }
   ],
   "source": [
    "loss_history = pd.DataFrame(history.history)\n",
    "json.dump(history.history,open(\"./historys/mobile_net\",'w'))\n"
   ]
  },
  {
   "cell_type": "code",
   "execution_count": 16,
   "id": "66ac1a11",
   "metadata": {},
   "outputs": [],
   "source": [
    "history = json.load(open(\"./historys/mobile_net\",'r'))"
   ]
  },
  {
   "cell_type": "code",
   "execution_count": 20,
   "id": "024b9a3c",
   "metadata": {},
   "outputs": [
    {
     "data": {
      "text/plain": [
       "<AxesSubplot:>"
      ]
     },
     "execution_count": 20,
     "metadata": {},
     "output_type": "execute_result"
    },
    {
     "data": {
      "image/png": "[encoded data removed]",
      "text/plain": [
       "<Figure size 432x288 with 1 Axes>"
      ]
     },
     "metadata": {
      "needs_background": "light"
     },
     "output_type": "display_data"
    }
   ],
   "source": [
    "loss_history = pd.DataFrame(history)\n",
    "loss_history[['loss','val_loss']].plot()"
   ]
  },
  {
   "cell_type": "code",
   "execution_count": 21,
   "id": "7974b9cd",
   "metadata": {},
   "outputs": [
    {
     "data": {
      "text/plain": [
       "<AxesSubplot:>"
      ]
     },
     "execution_count": 21,
     "metadata": {},
     "output_type": "execute_result"
    },
    {
     "data": {
      "image/png": "[encoded data removed]",
      "text/plain": [
       "<Figure size 432x288 with 1 Axes>"
      ]
     },
     "metadata": {
      "needs_background": "light"
     },
     "output_type": "display_data"
    }
   ],
   "source": [
    "loss_history[['accuracy','val_accuracy']].plot()"
   ]
  },
  {
   "cell_type": "code",
   "execution_count": 24,
   "id": "fbe926d3",
   "metadata": {},
   "outputs": [],
   "source": [
    "model = Mobile_net(0.001,100,0.95)"
   ]
  },
  {
   "cell_type": "code",
   "execution_count": 25,
   "id": "996a9013",
   "metadata": {},
   "outputs": [
    {
     "name": "stdout",
     "output_type": "stream",
     "text": [
      "Epoch 1/100\n",
      "148/148 [==============================] - 40s 173ms/step - loss: 3.0222 - accuracy: 0.3343 - val_loss: 15.3974 - val_accuracy: 0.0231\n",
      "Epoch 2/100\n",
      "148/148 [==============================] - 27s 167ms/step - loss: 1.0566 - accuracy: 0.7035 - val_loss: 14.8732 - val_accuracy: 0.0432\n",
      "Epoch 3/100\n",
      "148/148 [==============================] - 27s 167ms/step - loss: 0.6353 - accuracy: 0.8080 - val_loss: 14.6311 - val_accuracy: 0.0386\n",
      "Epoch 4/100\n",
      "148/148 [==============================] - 27s 167ms/step - loss: 0.4556 - accuracy: 0.8638 - val_loss: 13.5643 - val_accuracy: 0.0340\n",
      "Epoch 5/100\n",
      "148/148 [==============================] - 28s 168ms/step - loss: 0.3311 - accuracy: 0.9023 - val_loss: 9.6737 - val_accuracy: 0.1559\n",
      "Epoch 6/100\n",
      "148/148 [==============================] - 27s 166ms/step - loss: 0.2585 - accuracy: 0.9232 - val_loss: 8.4539 - val_accuracy: 0.1373\n",
      "Epoch 7/100\n",
      "148/148 [==============================] - 27s 167ms/step - loss: 0.2172 - accuracy: 0.9323 - val_loss: 6.1054 - val_accuracy: 0.2454\n",
      "Epoch 8/100\n",
      "148/148 [==============================] - 28s 168ms/step - loss: 0.1579 - accuracy: 0.9501 - val_loss: 5.8398 - val_accuracy: 0.2932\n",
      "Epoch 9/100\n",
      "148/148 [==============================] - 27s 166ms/step - loss: 0.1265 - accuracy: 0.9649 - val_loss: 4.3745 - val_accuracy: 0.3503\n",
      "Epoch 10/100\n",
      "148/148 [==============================] - 27s 167ms/step - loss: 0.1263 - accuracy: 0.9621 - val_loss: 4.1552 - val_accuracy: 0.3565\n",
      "Epoch 11/100\n",
      "148/148 [==============================] - 28s 167ms/step - loss: 0.0873 - accuracy: 0.9757 - val_loss: 2.2907 - val_accuracy: 0.5571\n",
      "Epoch 12/100\n",
      "148/148 [==============================] - 27s 166ms/step - loss: 0.0794 - accuracy: 0.9767 - val_loss: 1.4669 - val_accuracy: 0.6821\n",
      "Epoch 13/100\n",
      "148/148 [==============================] - 27s 166ms/step - loss: 0.0679 - accuracy: 0.9795 - val_loss: 0.9776 - val_accuracy: 0.7685\n",
      "Epoch 14/100\n",
      "148/148 [==============================] - 27s 166ms/step - loss: 0.0537 - accuracy: 0.9850 - val_loss: 0.6708 - val_accuracy: 0.8410\n",
      "Epoch 15/100\n",
      "148/148 [==============================] - 27s 167ms/step - loss: 0.0450 - accuracy: 0.9875 - val_loss: 0.5570 - val_accuracy: 0.8534\n",
      "Epoch 16/100\n",
      "148/148 [==============================] - 27s 167ms/step - loss: 0.0421 - accuracy: 0.9875 - val_loss: 0.4862 - val_accuracy: 0.8781\n",
      "Epoch 17/100\n",
      "148/148 [==============================] - 27s 167ms/step - loss: 0.0464 - accuracy: 0.9854 - val_loss: 0.5759 - val_accuracy: 0.8565\n",
      "Epoch 18/100\n",
      "148/148 [==============================] - 27s 166ms/step - loss: 0.0400 - accuracy: 0.9903 - val_loss: 0.4810 - val_accuracy: 0.8904\n",
      "Epoch 19/100\n",
      "148/148 [==============================] - 27s 166ms/step - loss: 0.0365 - accuracy: 0.9918 - val_loss: 0.4841 - val_accuracy: 0.8796\n",
      "Epoch 20/100\n",
      "148/148 [==============================] - 27s 167ms/step - loss: 0.0363 - accuracy: 0.9884 - val_loss: 0.5508 - val_accuracy: 0.8642\n",
      "Epoch 21/100\n",
      "148/148 [==============================] - 28s 167ms/step - loss: 0.0288 - accuracy: 0.9918 - val_loss: 0.5057 - val_accuracy: 0.8812\n",
      "Epoch 22/100\n",
      "148/148 [==============================] - 27s 167ms/step - loss: 0.0274 - accuracy: 0.9918 - val_loss: 0.3728 - val_accuracy: 0.9043\n",
      "Epoch 23/100\n",
      "148/148 [==============================] - 28s 167ms/step - loss: 0.0247 - accuracy: 0.9932 - val_loss: 0.3624 - val_accuracy: 0.9059\n",
      "Epoch 24/100\n",
      "148/148 [==============================] - 27s 167ms/step - loss: 0.0202 - accuracy: 0.9949 - val_loss: 0.3347 - val_accuracy: 0.9167\n",
      "Epoch 25/100\n",
      "148/148 [==============================] - 28s 167ms/step - loss: 0.0181 - accuracy: 0.9947 - val_loss: 0.3117 - val_accuracy: 0.9228\n",
      "Epoch 26/100\n",
      "148/148 [==============================] - 27s 166ms/step - loss: 0.0168 - accuracy: 0.9960 - val_loss: 0.3247 - val_accuracy: 0.9198\n",
      "Epoch 27/100\n",
      "148/148 [==============================] - 27s 166ms/step - loss: 0.0131 - accuracy: 0.9968 - val_loss: 0.3183 - val_accuracy: 0.9182\n",
      "Epoch 28/100\n",
      "148/148 [==============================] - 27s 167ms/step - loss: 0.0160 - accuracy: 0.9956 - val_loss: 0.3288 - val_accuracy: 0.9228\n",
      "Epoch 29/100\n",
      "148/148 [==============================] - 28s 167ms/step - loss: 0.0145 - accuracy: 0.9956 - val_loss: 0.3194 - val_accuracy: 0.9244\n",
      "Epoch 30/100\n",
      "148/148 [==============================] - 27s 168ms/step - loss: 0.0131 - accuracy: 0.9964 - val_loss: 0.2991 - val_accuracy: 0.9336\n",
      "Epoch 31/100\n",
      "148/148 [==============================] - 27s 166ms/step - loss: 0.0112 - accuracy: 0.9977 - val_loss: 0.3078 - val_accuracy: 0.9290\n",
      "Epoch 32/100\n",
      "148/148 [==============================] - 27s 166ms/step - loss: 0.0154 - accuracy: 0.9949 - val_loss: 0.3252 - val_accuracy: 0.9151\n",
      "Epoch 33/100\n",
      "148/148 [==============================] - 27s 166ms/step - loss: 0.0125 - accuracy: 0.9968 - val_loss: 0.3153 - val_accuracy: 0.9198\n",
      "Epoch 34/100\n",
      "148/148 [==============================] - 27s 166ms/step - loss: 0.0132 - accuracy: 0.9962 - val_loss: 0.3118 - val_accuracy: 0.9275\n",
      "Epoch 35/100\n",
      "148/148 [==============================] - 27s 166ms/step - loss: 0.0094 - accuracy: 0.9968 - val_loss: 0.3130 - val_accuracy: 0.9259\n",
      "Epoch 36/100\n",
      "148/148 [==============================] - 27s 166ms/step - loss: 0.0083 - accuracy: 0.9979 - val_loss: 0.2888 - val_accuracy: 0.9306\n",
      "Epoch 37/100\n",
      "148/148 [==============================] - 27s 167ms/step - loss: 0.0118 - accuracy: 0.9949 - val_loss: 0.2812 - val_accuracy: 0.9275\n",
      "Epoch 38/100\n",
      "148/148 [==============================] - 27s 166ms/step - loss: 0.0099 - accuracy: 0.9970 - val_loss: 0.2845 - val_accuracy: 0.9321\n",
      "Epoch 39/100\n",
      "148/148 [==============================] - 27s 166ms/step - loss: 0.0092 - accuracy: 0.9966 - val_loss: 0.2845 - val_accuracy: 0.9290\n",
      "Epoch 40/100\n",
      "148/148 [==============================] - 27s 167ms/step - loss: 0.0103 - accuracy: 0.9970 - val_loss: 0.2892 - val_accuracy: 0.9336\n",
      "Epoch 41/100\n",
      "148/148 [==============================] - 27s 166ms/step - loss: 0.0090 - accuracy: 0.9964 - val_loss: 0.2860 - val_accuracy: 0.9321\n",
      "Epoch 42/100\n",
      "148/148 [==============================] - 27s 167ms/step - loss: 0.0092 - accuracy: 0.9968 - val_loss: 0.2858 - val_accuracy: 0.9336\n",
      "Epoch 43/100\n",
      "148/148 [==============================] - 27s 167ms/step - loss: 0.0115 - accuracy: 0.9962 - val_loss: 0.2870 - val_accuracy: 0.9352\n",
      "Epoch 44/100\n",
      "148/148 [==============================] - 28s 168ms/step - loss: 0.0078 - accuracy: 0.9968 - val_loss: 0.2864 - val_accuracy: 0.9383\n",
      "Epoch 45/100\n",
      "148/148 [==============================] - 28s 168ms/step - loss: 0.0075 - accuracy: 0.9970 - val_loss: 0.2883 - val_accuracy: 0.9383\n",
      "Epoch 46/100\n",
      "148/148 [==============================] - 28s 168ms/step - loss: 0.0077 - accuracy: 0.9973 - val_loss: 0.2835 - val_accuracy: 0.9367\n",
      "Epoch 47/100\n",
      "148/148 [==============================] - ETA: 0s - loss: 0.0075 - accuracy: 0.9977Restoring model weights from the end of the best epoch: 37.\n",
      "148/148 [==============================] - 28s 168ms/step - loss: 0.0075 - accuracy: 0.9977 - val_loss: 0.2902 - val_accuracy: 0.9352\n",
      "Epoch 00047: early stopping\n"
     ]
    }
   ],
   "source": [
    "history = model.fit(train_ds, epochs=100, validation_data = val_ds,callbacks=callback_list)"
   ]
  },
  {
   "cell_type": "code",
   "execution_count": 26,
   "id": "1832a8ae",
   "metadata": {},
   "outputs": [],
   "source": [
    "loss_history = pd.DataFrame(history.history)\n",
    "json.dump(history.history,open(\"./historys/mobile_net1\",'w'))"
   ]
  },
  {
   "cell_type": "code",
   "execution_count": null,
   "id": "ca5b262b",
   "metadata": {},
   "outputs": [],
   "source": []
  }
 ],
 "metadata": {
  "kernelspec": {
   "display_name": "Python 3 (ipykernel)",
   "language": "python",
   "name": "python3"
  },
  "language_info": {
   "codemirror_mode": {
    "name": "ipython",
    "version": 3
   },
   "file_extension": ".py",
   "mimetype": "text/x-python",
   "name": "python",
   "nbconvert_exporter": "python",
   "pygments_lexer": "ipython3",
   "version": "3.9.7"
  }
 },
 "nbformat": 4,
 "nbformat_minor": 5
}
